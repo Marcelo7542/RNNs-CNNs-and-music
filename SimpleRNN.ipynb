{
 "cells": [
  {
   "cell_type": "code",
   "execution_count": 188,
   "id": "58b9f649-620b-454b-ad98-facdba25e667",
   "metadata": {},
   "outputs": [
    {
     "name": "stdout",
     "output_type": "stream",
     "text": [
      "No GPU was detected.\n"
     ]
    }
   ],
   "source": [
    "import numpy as np\n",
    "import tensorflow as tf\n",
    "from sklearn.metrics import mean_squared_error\n",
    "import matplotlib.pyplot as plt\n",
    "if not tf.config.list_physical_devices('GPU'):\n",
    "    print(\"No GPU was detected.\")"
   ]
  },
  {
   "cell_type": "code",
   "execution_count": 189,
   "id": "b136de38-b470-47c9-b5f7-95dae74289b2",
   "metadata": {},
   "outputs": [],
   "source": [
    "def time_series(batch_size, n_steps):\n",
    " f1, f2, f3, offset1, offset2, offset3 = np.random.rand(6, batch_size, 1)\n",
    " time = np.linspace(0, 1, n_steps)\n",
    " wave = 2 * np.sin((time - offset1) + (f1 * 20 + 4))\n",
    " wave += 0.4 * np.sin((time - offset2) + (f2 * 20 + 20))\n",
    " wave += 0.5 * np.sin((time - offset3) + (f3))\n",
    " wave += 2 * np.random.rand(batch_size, n_steps)\n",
    " return wave[..., np.newaxis].astype(np.float32)\n"
   ]
  },
  {
   "cell_type": "code",
   "execution_count": 190,
   "id": "2875c42a-85dd-46a4-8480-a6efb3d9102c",
   "metadata": {},
   "outputs": [],
   "source": [
    "wave = wave[..., np.newaxis].astype(np.float32)"
   ]
  },
  {
   "cell_type": "code",
   "execution_count": 191,
   "id": "0ec01dd2-d66a-49cd-905b-85f5673c9a4e",
   "metadata": {},
   "outputs": [
    {
     "name": "stdout",
     "output_type": "stream",
     "text": [
      "(1, 60, 1, 1)\n"
     ]
    }
   ],
   "source": [
    "print(wave.shape)"
   ]
  },
  {
   "cell_type": "code",
   "execution_count": 192,
   "id": "b003e876-8a59-431b-becc-75da2c326c69",
   "metadata": {},
   "outputs": [],
   "source": [
    "n_steps = 50\n",
    "wave = time_series(100000, n_steps + 1)\n",
    "X_train, y_train = wave[:70000, :40], wave[:70000, -1]\n",
    "X_valid, y_valid = wave[70000:90000, :40], wave[70000:90000, -1]\n",
    "X_test, y_test = wave[90000:, :40], wave[90000:, -1]\n"
   ]
  },
  {
   "cell_type": "code",
   "execution_count": 193,
   "id": "a0d3bade-35fa-4031-b88d-06b1d7717561",
   "metadata": {},
   "outputs": [],
   "source": [
    "X_train = X_train.reshape(-1, 40, 1) \n",
    "X_valid = X_valid.reshape(-1, 40, 1)\n",
    "X_test = X_test.reshape(-1, 40, 1)\n"
   ]
  },
  {
   "cell_type": "code",
   "execution_count": 194,
   "id": "fd41f71d-2cf3-4875-aa3b-1ac8b0e90cd5",
   "metadata": {},
   "outputs": [
    {
     "name": "stdout",
     "output_type": "stream",
     "text": [
      "0.7721532\n"
     ]
    }
   ],
   "source": [
    "y_pred = X_valid[:, -1]\n",
    "base_mean = np.mean(mean_squared_error(y_valid, y_pred))\n",
    "print(base_mean)"
   ]
  },
  {
   "cell_type": "code",
   "execution_count": 195,
   "id": "e605f67d-4fff-491f-9b17-920042070175",
   "metadata": {},
   "outputs": [
    {
     "name": "stderr",
     "output_type": "stream",
     "text": [
      "C:\\Users\\marce\\anaconda4\\Lib\\site-packages\\keras\\src\\layers\\core\\input_layer.py:27: UserWarning: Argument `input_shape` is deprecated. Use `shape` instead.\n",
      "  warnings.warn(\n"
     ]
    }
   ],
   "source": [
    "model = tf.keras.models.Sequential([\n",
    " tf.keras.layers.InputLayer(input_shape=[40, 1]),\n",
    " tf.keras.layers.Flatten(),\n",
    " tf.keras.layers.Dense(1)\n",
    "])"
   ]
  },
  {
   "cell_type": "code",
   "execution_count": 196,
   "id": "912be5af-51e2-4695-b02d-36eb5121c1fc",
   "metadata": {},
   "outputs": [],
   "source": [
    "model.compile(optimizer='Nadam', loss='mean_squared_error', metrics=['mean_squared_error'])"
   ]
  },
  {
   "cell_type": "code",
   "execution_count": 197,
   "id": "7a871261-c55d-49a7-9cea-32744b86ee7c",
   "metadata": {},
   "outputs": [
    {
     "name": "stdout",
     "output_type": "stream",
     "text": [
      "(70000, 40, 1)\n",
      "(70000, 1)\n"
     ]
    }
   ],
   "source": [
    "print(X_train.shape)\n",
    "print(y_train.shape)"
   ]
  },
  {
   "cell_type": "code",
   "execution_count": 198,
   "id": "bc661e54-84a3-4943-8073-8be4bac1381c",
   "metadata": {},
   "outputs": [
    {
     "name": "stdout",
     "output_type": "stream",
     "text": [
      "Epoch 1/20\n",
      "\u001b[1m2188/2188\u001b[0m \u001b[32m━━━━━━━━━━━━━━━━━━━━\u001b[0m\u001b[37m\u001b[0m \u001b[1m13s\u001b[0m 5ms/step - loss: 2.4745 - mean_squared_error: 2.4745 - val_loss: 0.4621 - val_mean_squared_error: 0.4621\n",
      "Epoch 2/20\n",
      "\u001b[1m2188/2188\u001b[0m \u001b[32m━━━━━━━━━━━━━━━━━━━━\u001b[0m\u001b[37m\u001b[0m \u001b[1m11s\u001b[0m 5ms/step - loss: 0.4223 - mean_squared_error: 0.4223 - val_loss: 0.3891 - val_mean_squared_error: 0.3891\n",
      "Epoch 3/20\n",
      "\u001b[1m2188/2188\u001b[0m \u001b[32m━━━━━━━━━━━━━━━━━━━━\u001b[0m\u001b[37m\u001b[0m \u001b[1m10s\u001b[0m 5ms/step - loss: 0.3886 - mean_squared_error: 0.3886 - val_loss: 0.3885 - val_mean_squared_error: 0.3885\n",
      "Epoch 4/20\n",
      "\u001b[1m2188/2188\u001b[0m \u001b[32m━━━━━━━━━━━━━━━━━━━━\u001b[0m\u001b[37m\u001b[0m \u001b[1m20s\u001b[0m 4ms/step - loss: 0.3910 - mean_squared_error: 0.3910 - val_loss: 0.3891 - val_mean_squared_error: 0.3891\n",
      "Epoch 5/20\n",
      "\u001b[1m2188/2188\u001b[0m \u001b[32m━━━━━━━━━━━━━━━━━━━━\u001b[0m\u001b[37m\u001b[0m \u001b[1m10s\u001b[0m 4ms/step - loss: 0.3910 - mean_squared_error: 0.3910 - val_loss: 0.3884 - val_mean_squared_error: 0.3884\n",
      "Epoch 6/20\n",
      "\u001b[1m2188/2188\u001b[0m \u001b[32m━━━━━━━━━━━━━━━━━━━━\u001b[0m\u001b[37m\u001b[0m \u001b[1m10s\u001b[0m 4ms/step - loss: 0.3916 - mean_squared_error: 0.3916 - val_loss: 0.3882 - val_mean_squared_error: 0.3882\n",
      "Epoch 7/20\n",
      "\u001b[1m2188/2188\u001b[0m \u001b[32m━━━━━━━━━━━━━━━━━━━━\u001b[0m\u001b[37m\u001b[0m \u001b[1m11s\u001b[0m 4ms/step - loss: 0.3888 - mean_squared_error: 0.3888 - val_loss: 0.3884 - val_mean_squared_error: 0.3884\n",
      "Epoch 8/20\n",
      "\u001b[1m2188/2188\u001b[0m \u001b[32m━━━━━━━━━━━━━━━━━━━━\u001b[0m\u001b[37m\u001b[0m \u001b[1m9s\u001b[0m 4ms/step - loss: 0.3876 - mean_squared_error: 0.3876 - val_loss: 0.3891 - val_mean_squared_error: 0.3891\n",
      "Epoch 9/20\n",
      "\u001b[1m2188/2188\u001b[0m \u001b[32m━━━━━━━━━━━━━━━━━━━━\u001b[0m\u001b[37m\u001b[0m \u001b[1m10s\u001b[0m 4ms/step - loss: 0.3884 - mean_squared_error: 0.3884 - val_loss: 0.3883 - val_mean_squared_error: 0.3883\n",
      "Epoch 10/20\n",
      "\u001b[1m2188/2188\u001b[0m \u001b[32m━━━━━━━━━━━━━━━━━━━━\u001b[0m\u001b[37m\u001b[0m \u001b[1m10s\u001b[0m 4ms/step - loss: 0.3900 - mean_squared_error: 0.3900 - val_loss: 0.3888 - val_mean_squared_error: 0.3888\n",
      "Epoch 11/20\n",
      "\u001b[1m2188/2188\u001b[0m \u001b[32m━━━━━━━━━━━━━━━━━━━━\u001b[0m\u001b[37m\u001b[0m \u001b[1m10s\u001b[0m 4ms/step - loss: 0.3861 - mean_squared_error: 0.3861 - val_loss: 0.3886 - val_mean_squared_error: 0.3886\n",
      "Epoch 12/20\n",
      "\u001b[1m2188/2188\u001b[0m \u001b[32m━━━━━━━━━━━━━━━━━━━━\u001b[0m\u001b[37m\u001b[0m \u001b[1m9s\u001b[0m 4ms/step - loss: 0.3934 - mean_squared_error: 0.3934 - val_loss: 0.3889 - val_mean_squared_error: 0.3889\n",
      "Epoch 13/20\n",
      "\u001b[1m2188/2188\u001b[0m \u001b[32m━━━━━━━━━━━━━━━━━━━━\u001b[0m\u001b[37m\u001b[0m \u001b[1m9s\u001b[0m 4ms/step - loss: 0.3911 - mean_squared_error: 0.3911 - val_loss: 0.3922 - val_mean_squared_error: 0.3922\n",
      "Epoch 14/20\n",
      "\u001b[1m2188/2188\u001b[0m \u001b[32m━━━━━━━━━━━━━━━━━━━━\u001b[0m\u001b[37m\u001b[0m \u001b[1m9s\u001b[0m 4ms/step - loss: 0.3905 - mean_squared_error: 0.3905 - val_loss: 0.3895 - val_mean_squared_error: 0.3895\n",
      "Epoch 15/20\n",
      "\u001b[1m2188/2188\u001b[0m \u001b[32m━━━━━━━━━━━━━━━━━━━━\u001b[0m\u001b[37m\u001b[0m \u001b[1m11s\u001b[0m 5ms/step - loss: 0.3900 - mean_squared_error: 0.3900 - val_loss: 0.3906 - val_mean_squared_error: 0.3906\n",
      "Epoch 16/20\n",
      "\u001b[1m2188/2188\u001b[0m \u001b[32m━━━━━━━━━━━━━━━━━━━━\u001b[0m\u001b[37m\u001b[0m \u001b[1m10s\u001b[0m 4ms/step - loss: 0.3918 - mean_squared_error: 0.3918 - val_loss: 0.3897 - val_mean_squared_error: 0.3897\n",
      "Epoch 17/20\n",
      "\u001b[1m2188/2188\u001b[0m \u001b[32m━━━━━━━━━━━━━━━━━━━━\u001b[0m\u001b[37m\u001b[0m \u001b[1m9s\u001b[0m 4ms/step - loss: 0.3887 - mean_squared_error: 0.3887 - val_loss: 0.3884 - val_mean_squared_error: 0.3884\n",
      "Epoch 18/20\n",
      "\u001b[1m2188/2188\u001b[0m \u001b[32m━━━━━━━━━━━━━━━━━━━━\u001b[0m\u001b[37m\u001b[0m \u001b[1m10s\u001b[0m 5ms/step - loss: 0.3936 - mean_squared_error: 0.3936 - val_loss: 0.3888 - val_mean_squared_error: 0.3888\n",
      "Epoch 19/20\n",
      "\u001b[1m2188/2188\u001b[0m \u001b[32m━━━━━━━━━━━━━━━━━━━━\u001b[0m\u001b[37m\u001b[0m \u001b[1m9s\u001b[0m 4ms/step - loss: 0.3883 - mean_squared_error: 0.3883 - val_loss: 0.3893 - val_mean_squared_error: 0.3893\n",
      "Epoch 20/20\n",
      "\u001b[1m2188/2188\u001b[0m \u001b[32m━━━━━━━━━━━━━━━━━━━━\u001b[0m\u001b[37m\u001b[0m \u001b[1m10s\u001b[0m 4ms/step - loss: 0.3915 - mean_squared_error: 0.3915 - val_loss: 0.3913 - val_mean_squared_error: 0.3913\n"
     ]
    }
   ],
   "source": [
    "history = model.fit(X_train, y_train, validation_data=(X_valid, y_valid), epochs=20)\n"
   ]
  },
  {
   "cell_type": "code",
   "execution_count": 199,
   "id": "5fdc9ad8-453f-4e9e-a82a-7a6dcd190f16",
   "metadata": {},
   "outputs": [
    {
     "name": "stderr",
     "output_type": "stream",
     "text": [
      "C:\\Users\\marce\\anaconda4\\Lib\\site-packages\\keras\\src\\layers\\rnn\\rnn.py:200: UserWarning: Do not pass an `input_shape`/`input_dim` argument to a layer. When using Sequential models, prefer using an `Input(shape)` object as the first layer in the model instead.\n",
      "  super().__init__(**kwargs)\n"
     ]
    }
   ],
   "source": [
    "model = tf.keras.models.Sequential([\n",
    " tf.keras.layers.SimpleRNN(1, input_shape = [None, 1])\n",
    "])"
   ]
  },
  {
   "cell_type": "code",
   "execution_count": 200,
   "id": "ef85361e-17a3-45d3-91ac-9c67f5f91fe0",
   "metadata": {},
   "outputs": [],
   "source": [
    "model.compile(optimizer='Nadam', loss='mean_squared_error', metrics=['mean_squared_error'])"
   ]
  },
  {
   "cell_type": "code",
   "execution_count": 201,
   "id": "3a804000-c650-4ed9-861d-4a9a2c711263",
   "metadata": {},
   "outputs": [
    {
     "name": "stdout",
     "output_type": "stream",
     "text": [
      "Epoch 1/20\n",
      "\u001b[1m2188/2188\u001b[0m \u001b[32m━━━━━━━━━━━━━━━━━━━━\u001b[0m\u001b[37m\u001b[0m \u001b[1m60s\u001b[0m 25ms/step - loss: 6.4038 - mean_squared_error: 6.4038 - val_loss: 4.1367 - val_mean_squared_error: 4.1367\n",
      "Epoch 2/20\n",
      "\u001b[1m2188/2188\u001b[0m \u001b[32m━━━━━━━━━━━━━━━━━━━━\u001b[0m\u001b[37m\u001b[0m \u001b[1m31s\u001b[0m 14ms/step - loss: 3.4303 - mean_squared_error: 3.4303 - val_loss: 2.4956 - val_mean_squared_error: 2.4956\n",
      "Epoch 3/20\n",
      "\u001b[1m2188/2188\u001b[0m \u001b[32m━━━━━━━━━━━━━━━━━━━━\u001b[0m\u001b[37m\u001b[0m \u001b[1m29s\u001b[0m 13ms/step - loss: 2.4167 - mean_squared_error: 2.4167 - val_loss: 2.2805 - val_mean_squared_error: 2.2805\n",
      "Epoch 4/20\n",
      "\u001b[1m2188/2188\u001b[0m \u001b[32m━━━━━━━━━━━━━━━━━━━━\u001b[0m\u001b[37m\u001b[0m \u001b[1m28s\u001b[0m 13ms/step - loss: 2.2232 - mean_squared_error: 2.2232 - val_loss: 2.1729 - val_mean_squared_error: 2.1729\n",
      "Epoch 5/20\n",
      "\u001b[1m2188/2188\u001b[0m \u001b[32m━━━━━━━━━━━━━━━━━━━━\u001b[0m\u001b[37m\u001b[0m \u001b[1m28s\u001b[0m 13ms/step - loss: 2.1120 - mean_squared_error: 2.1120 - val_loss: 2.0483 - val_mean_squared_error: 2.0483\n",
      "Epoch 6/20\n",
      "\u001b[1m2188/2188\u001b[0m \u001b[32m━━━━━━━━━━━━━━━━━━━━\u001b[0m\u001b[37m\u001b[0m \u001b[1m27s\u001b[0m 12ms/step - loss: 2.0203 - mean_squared_error: 2.0203 - val_loss: 2.0088 - val_mean_squared_error: 2.0088\n",
      "Epoch 7/20\n",
      "\u001b[1m2188/2188\u001b[0m \u001b[32m━━━━━━━━━━━━━━━━━━━━\u001b[0m\u001b[37m\u001b[0m \u001b[1m27s\u001b[0m 12ms/step - loss: 2.0035 - mean_squared_error: 2.0035 - val_loss: 2.0082 - val_mean_squared_error: 2.0082\n",
      "Epoch 8/20\n",
      "\u001b[1m2188/2188\u001b[0m \u001b[32m━━━━━━━━━━━━━━━━━━━━\u001b[0m\u001b[37m\u001b[0m \u001b[1m28s\u001b[0m 13ms/step - loss: 2.0163 - mean_squared_error: 2.0163 - val_loss: 2.0082 - val_mean_squared_error: 2.0082\n",
      "Epoch 9/20\n",
      "\u001b[1m2188/2188\u001b[0m \u001b[32m━━━━━━━━━━━━━━━━━━━━\u001b[0m\u001b[37m\u001b[0m \u001b[1m28s\u001b[0m 13ms/step - loss: 2.0101 - mean_squared_error: 2.0101 - val_loss: 2.0081 - val_mean_squared_error: 2.0081\n",
      "Epoch 10/20\n",
      "\u001b[1m2188/2188\u001b[0m \u001b[32m━━━━━━━━━━━━━━━━━━━━\u001b[0m\u001b[37m\u001b[0m \u001b[1m30s\u001b[0m 14ms/step - loss: 1.9821 - mean_squared_error: 1.9821 - val_loss: 2.0081 - val_mean_squared_error: 2.0081\n",
      "Epoch 11/20\n",
      "\u001b[1m2188/2188\u001b[0m \u001b[32m━━━━━━━━━━━━━━━━━━━━\u001b[0m\u001b[37m\u001b[0m \u001b[1m27s\u001b[0m 12ms/step - loss: 1.9963 - mean_squared_error: 1.9963 - val_loss: 2.0083 - val_mean_squared_error: 2.0083\n",
      "Epoch 12/20\n",
      "\u001b[1m2188/2188\u001b[0m \u001b[32m━━━━━━━━━━━━━━━━━━━━\u001b[0m\u001b[37m\u001b[0m \u001b[1m28s\u001b[0m 13ms/step - loss: 1.9919 - mean_squared_error: 1.9919 - val_loss: 2.0080 - val_mean_squared_error: 2.0080\n",
      "Epoch 13/20\n",
      "\u001b[1m2188/2188\u001b[0m \u001b[32m━━━━━━━━━━━━━━━━━━━━\u001b[0m\u001b[37m\u001b[0m \u001b[1m28s\u001b[0m 13ms/step - loss: 2.0116 - mean_squared_error: 2.0116 - val_loss: 2.0081 - val_mean_squared_error: 2.0081\n",
      "Epoch 14/20\n",
      "\u001b[1m2188/2188\u001b[0m \u001b[32m━━━━━━━━━━━━━━━━━━━━\u001b[0m\u001b[37m\u001b[0m \u001b[1m28s\u001b[0m 13ms/step - loss: 1.9865 - mean_squared_error: 1.9865 - val_loss: 2.0083 - val_mean_squared_error: 2.0083\n",
      "Epoch 15/20\n",
      "\u001b[1m2188/2188\u001b[0m \u001b[32m━━━━━━━━━━━━━━━━━━━━\u001b[0m\u001b[37m\u001b[0m \u001b[1m40s\u001b[0m 12ms/step - loss: 2.0071 - mean_squared_error: 2.0071 - val_loss: 2.0082 - val_mean_squared_error: 2.0082\n",
      "Epoch 16/20\n",
      "\u001b[1m2188/2188\u001b[0m \u001b[32m━━━━━━━━━━━━━━━━━━━━\u001b[0m\u001b[37m\u001b[0m \u001b[1m29s\u001b[0m 13ms/step - loss: 1.9952 - mean_squared_error: 1.9952 - val_loss: 2.0084 - val_mean_squared_error: 2.0084\n",
      "Epoch 17/20\n",
      "\u001b[1m2188/2188\u001b[0m \u001b[32m━━━━━━━━━━━━━━━━━━━━\u001b[0m\u001b[37m\u001b[0m \u001b[1m27s\u001b[0m 12ms/step - loss: 1.9988 - mean_squared_error: 1.9988 - val_loss: 2.0083 - val_mean_squared_error: 2.0083\n",
      "Epoch 18/20\n",
      "\u001b[1m2188/2188\u001b[0m \u001b[32m━━━━━━━━━━━━━━━━━━━━\u001b[0m\u001b[37m\u001b[0m \u001b[1m42s\u001b[0m 13ms/step - loss: 1.9824 - mean_squared_error: 1.9824 - val_loss: 2.0084 - val_mean_squared_error: 2.0084\n",
      "Epoch 19/20\n",
      "\u001b[1m2188/2188\u001b[0m \u001b[32m━━━━━━━━━━━━━━━━━━━━\u001b[0m\u001b[37m\u001b[0m \u001b[1m28s\u001b[0m 13ms/step - loss: 2.0066 - mean_squared_error: 2.0066 - val_loss: 2.0081 - val_mean_squared_error: 2.0081\n",
      "Epoch 20/20\n",
      "\u001b[1m2188/2188\u001b[0m \u001b[32m━━━━━━━━━━━━━━━━━━━━\u001b[0m\u001b[37m\u001b[0m \u001b[1m28s\u001b[0m 13ms/step - loss: 2.0192 - mean_squared_error: 2.0192 - val_loss: 2.0080 - val_mean_squared_error: 2.0080\n"
     ]
    }
   ],
   "source": [
    "history = model.fit(X_train, y_train, validation_data=(X_valid, y_valid), epochs=20)\n"
   ]
  },
  {
   "cell_type": "code",
   "execution_count": 202,
   "id": "e047fa40-5acf-4063-b0f5-2bd6b760062f",
   "metadata": {},
   "outputs": [],
   "source": [
    "model = tf.keras.models.Sequential([\n",
    " tf.keras.layers.SimpleRNN(30, input_shape = [None, 1],return_sequences=True),\n",
    " tf.keras.layers.SimpleRNN(30, input_shape = [None, 1], return_sequences=True),\n",
    " tf.keras.layers.SimpleRNN(30, input_shape = [None, 1], return_sequences=True),\n",
    " tf.keras.layers.SimpleRNN(1),\n",
    "])"
   ]
  },
  {
   "cell_type": "code",
   "execution_count": 203,
   "id": "578244b9-2c45-4344-af5c-12dae5eabead",
   "metadata": {},
   "outputs": [],
   "source": [
    "model.compile(optimizer='Nadam', loss='mean_squared_error', metrics=['mean_squared_error'])"
   ]
  },
  {
   "cell_type": "code",
   "execution_count": 204,
   "id": "b251a127-42bf-4985-bac6-0c6c8bc432ee",
   "metadata": {},
   "outputs": [
    {
     "name": "stdout",
     "output_type": "stream",
     "text": [
      "Epoch 1/20\n",
      "\u001b[1m2188/2188\u001b[0m \u001b[32m━━━━━━━━━━━━━━━━━━━━\u001b[0m\u001b[37m\u001b[0m \u001b[1m115s\u001b[0m 44ms/step - loss: 2.0398 - mean_squared_error: 2.0398 - val_loss: 1.9364 - val_mean_squared_error: 1.9364\n",
      "Epoch 2/20\n",
      "\u001b[1m2188/2188\u001b[0m \u001b[32m━━━━━━━━━━━━━━━━━━━━\u001b[0m\u001b[37m\u001b[0m \u001b[1m140s\u001b[0m 43ms/step - loss: 1.9227 - mean_squared_error: 1.9227 - val_loss: 1.9414 - val_mean_squared_error: 1.9414\n",
      "Epoch 3/20\n",
      "\u001b[1m2188/2188\u001b[0m \u001b[32m━━━━━━━━━━━━━━━━━━━━\u001b[0m\u001b[37m\u001b[0m \u001b[1m117s\u001b[0m 32ms/step - loss: 1.9229 - mean_squared_error: 1.9229 - val_loss: 1.9306 - val_mean_squared_error: 1.9306\n",
      "Epoch 4/20\n",
      "\u001b[1m2188/2188\u001b[0m \u001b[32m━━━━━━━━━━━━━━━━━━━━\u001b[0m\u001b[37m\u001b[0m \u001b[1m80s\u001b[0m 37ms/step - loss: 1.9275 - mean_squared_error: 1.9275 - val_loss: 1.9710 - val_mean_squared_error: 1.9710\n",
      "Epoch 5/20\n",
      "\u001b[1m2188/2188\u001b[0m \u001b[32m━━━━━━━━━━━━━━━━━━━━\u001b[0m\u001b[37m\u001b[0m \u001b[1m79s\u001b[0m 36ms/step - loss: 1.9514 - mean_squared_error: 1.9514 - val_loss: 1.9636 - val_mean_squared_error: 1.9636\n",
      "Epoch 6/20\n",
      "\u001b[1m2188/2188\u001b[0m \u001b[32m━━━━━━━━━━━━━━━━━━━━\u001b[0m\u001b[37m\u001b[0m \u001b[1m77s\u001b[0m 35ms/step - loss: 1.9199 - mean_squared_error: 1.9199 - val_loss: 1.9265 - val_mean_squared_error: 1.9265\n",
      "Epoch 7/20\n",
      "\u001b[1m2188/2188\u001b[0m \u001b[32m━━━━━━━━━━━━━━━━━━━━\u001b[0m\u001b[37m\u001b[0m \u001b[1m82s\u001b[0m 37ms/step - loss: 1.9330 - mean_squared_error: 1.9330 - val_loss: 1.9284 - val_mean_squared_error: 1.9284\n",
      "Epoch 8/20\n",
      "\u001b[1m2188/2188\u001b[0m \u001b[32m━━━━━━━━━━━━━━━━━━━━\u001b[0m\u001b[37m\u001b[0m \u001b[1m73s\u001b[0m 33ms/step - loss: 1.9204 - mean_squared_error: 1.9204 - val_loss: 1.9509 - val_mean_squared_error: 1.9509\n",
      "Epoch 9/20\n",
      "\u001b[1m2188/2188\u001b[0m \u001b[32m━━━━━━━━━━━━━━━━━━━━\u001b[0m\u001b[37m\u001b[0m \u001b[1m78s\u001b[0m 36ms/step - loss: 1.9285 - mean_squared_error: 1.9285 - val_loss: 1.9655 - val_mean_squared_error: 1.9655\n",
      "Epoch 10/20\n",
      "\u001b[1m2188/2188\u001b[0m \u001b[32m━━━━━━━━━━━━━━━━━━━━\u001b[0m\u001b[37m\u001b[0m \u001b[1m78s\u001b[0m 36ms/step - loss: 1.9405 - mean_squared_error: 1.9405 - val_loss: 1.9681 - val_mean_squared_error: 1.9681\n",
      "Epoch 11/20\n",
      "\u001b[1m2188/2188\u001b[0m \u001b[32m━━━━━━━━━━━━━━━━━━━━\u001b[0m\u001b[37m\u001b[0m \u001b[1m78s\u001b[0m 36ms/step - loss: 1.9755 - mean_squared_error: 1.9755 - val_loss: 1.9723 - val_mean_squared_error: 1.9723\n",
      "Epoch 12/20\n",
      "\u001b[1m2188/2188\u001b[0m \u001b[32m━━━━━━━━━━━━━━━━━━━━\u001b[0m\u001b[37m\u001b[0m \u001b[1m79s\u001b[0m 36ms/step - loss: 1.9729 - mean_squared_error: 1.9729 - val_loss: 1.9860 - val_mean_squared_error: 1.9860\n",
      "Epoch 13/20\n",
      "\u001b[1m2188/2188\u001b[0m \u001b[32m━━━━━━━━━━━━━━━━━━━━\u001b[0m\u001b[37m\u001b[0m \u001b[1m78s\u001b[0m 36ms/step - loss: 1.9435 - mean_squared_error: 1.9435 - val_loss: 1.9669 - val_mean_squared_error: 1.9669\n",
      "Epoch 14/20\n",
      "\u001b[1m2188/2188\u001b[0m \u001b[32m━━━━━━━━━━━━━━━━━━━━\u001b[0m\u001b[37m\u001b[0m \u001b[1m80s\u001b[0m 37ms/step - loss: 1.9708 - mean_squared_error: 1.9708 - val_loss: 1.9693 - val_mean_squared_error: 1.9693\n",
      "Epoch 15/20\n",
      "\u001b[1m2188/2188\u001b[0m \u001b[32m━━━━━━━━━━━━━━━━━━━━\u001b[0m\u001b[37m\u001b[0m \u001b[1m85s\u001b[0m 39ms/step - loss: 1.9599 - mean_squared_error: 1.9599 - val_loss: 1.9750 - val_mean_squared_error: 1.9750\n",
      "Epoch 16/20\n",
      "\u001b[1m2188/2188\u001b[0m \u001b[32m━━━━━━━━━━━━━━━━━━━━\u001b[0m\u001b[37m\u001b[0m \u001b[1m84s\u001b[0m 39ms/step - loss: 1.9467 - mean_squared_error: 1.9467 - val_loss: 1.9781 - val_mean_squared_error: 1.9781\n",
      "Epoch 17/20\n",
      "\u001b[1m2188/2188\u001b[0m \u001b[32m━━━━━━━━━━━━━━━━━━━━\u001b[0m\u001b[37m\u001b[0m \u001b[1m81s\u001b[0m 37ms/step - loss: 1.9412 - mean_squared_error: 1.9412 - val_loss: 1.9535 - val_mean_squared_error: 1.9535\n",
      "Epoch 18/20\n",
      "\u001b[1m2188/2188\u001b[0m \u001b[32m━━━━━━━━━━━━━━━━━━━━\u001b[0m\u001b[37m\u001b[0m \u001b[1m82s\u001b[0m 37ms/step - loss: 1.9482 - mean_squared_error: 1.9482 - val_loss: 1.9444 - val_mean_squared_error: 1.9444\n",
      "Epoch 19/20\n",
      "\u001b[1m2188/2188\u001b[0m \u001b[32m━━━━━━━━━━━━━━━━━━━━\u001b[0m\u001b[37m\u001b[0m \u001b[1m80s\u001b[0m 36ms/step - loss: 1.9375 - mean_squared_error: 1.9375 - val_loss: 1.9475 - val_mean_squared_error: 1.9475\n",
      "Epoch 20/20\n",
      "\u001b[1m2188/2188\u001b[0m \u001b[32m━━━━━━━━━━━━━━━━━━━━\u001b[0m\u001b[37m\u001b[0m \u001b[1m79s\u001b[0m 36ms/step - loss: 1.9187 - mean_squared_error: 1.9187 - val_loss: 1.9432 - val_mean_squared_error: 1.9432\n"
     ]
    }
   ],
   "source": [
    "history = model.fit(X_train, y_train, validation_data=(X_valid, y_valid), epochs=20)\n"
   ]
  },
  {
   "cell_type": "code",
   "execution_count": 205,
   "id": "dfc4c609-0ede-4fce-8485-b3b627b49940",
   "metadata": {},
   "outputs": [],
   "source": [
    "model = tf.keras.models.Sequential([\n",
    " tf.keras.layers.SimpleRNN(30, input_shape = [None, 1],return_sequences=True),\n",
    " tf.keras.layers.SimpleRNN(30, input_shape = [None, 1], return_sequences=True),\n",
    " tf.keras.layers.SimpleRNN(30, input_shape = [None, 1], return_sequences=True),\n",
    " tf.keras.layers.Dense(1),\n",
    "])"
   ]
  },
  {
   "cell_type": "code",
   "execution_count": 206,
   "id": "c536d9ba-a2bb-4ef4-b1a1-23c3ec78bfa5",
   "metadata": {},
   "outputs": [],
   "source": [
    "model.compile(optimizer='Nadam', loss='mean_squared_error', metrics=['mean_squared_error'])"
   ]
  },
  {
   "cell_type": "code",
   "execution_count": 207,
   "id": "2a13fb38-2d9e-4ae3-8261-d7448b41796f",
   "metadata": {},
   "outputs": [
    {
     "name": "stdout",
     "output_type": "stream",
     "text": [
      "Epoch 1/10\n",
      "\u001b[1m2188/2188\u001b[0m \u001b[32m━━━━━━━━━━━━━━━━━━━━\u001b[0m\u001b[37m\u001b[0m \u001b[1m75s\u001b[0m 30ms/step - loss: 1.1396 - mean_squared_error: 1.1396 - val_loss: 0.9384 - val_mean_squared_error: 0.9384\n",
      "Epoch 2/10\n",
      "\u001b[1m2188/2188\u001b[0m \u001b[32m━━━━━━━━━━━━━━━━━━━━\u001b[0m\u001b[37m\u001b[0m \u001b[1m61s\u001b[0m 28ms/step - loss: 0.9282 - mean_squared_error: 0.9282 - val_loss: 0.9204 - val_mean_squared_error: 0.9204\n",
      "Epoch 3/10\n",
      "\u001b[1m2188/2188\u001b[0m \u001b[32m━━━━━━━━━━━━━━━━━━━━\u001b[0m\u001b[37m\u001b[0m \u001b[1m62s\u001b[0m 28ms/step - loss: 0.9200 - mean_squared_error: 0.9200 - val_loss: 0.9054 - val_mean_squared_error: 0.9054\n",
      "Epoch 4/10\n",
      "\u001b[1m2188/2188\u001b[0m \u001b[32m━━━━━━━━━━━━━━━━━━━━\u001b[0m\u001b[37m\u001b[0m \u001b[1m63s\u001b[0m 29ms/step - loss: 0.9127 - mean_squared_error: 0.9127 - val_loss: 0.9128 - val_mean_squared_error: 0.9128\n",
      "Epoch 5/10\n",
      "\u001b[1m2188/2188\u001b[0m \u001b[32m━━━━━━━━━━━━━━━━━━━━\u001b[0m\u001b[37m\u001b[0m \u001b[1m60s\u001b[0m 28ms/step - loss: 0.9051 - mean_squared_error: 0.9051 - val_loss: 0.8921 - val_mean_squared_error: 0.8921\n",
      "Epoch 6/10\n",
      "\u001b[1m2188/2188\u001b[0m \u001b[32m━━━━━━━━━━━━━━━━━━━━\u001b[0m\u001b[37m\u001b[0m \u001b[1m67s\u001b[0m 30ms/step - loss: 0.9029 - mean_squared_error: 0.9029 - val_loss: 0.9185 - val_mean_squared_error: 0.9185\n",
      "Epoch 7/10\n",
      "\u001b[1m2188/2188\u001b[0m \u001b[32m━━━━━━━━━━━━━━━━━━━━\u001b[0m\u001b[37m\u001b[0m \u001b[1m71s\u001b[0m 32ms/step - loss: 0.8985 - mean_squared_error: 0.8985 - val_loss: 0.8906 - val_mean_squared_error: 0.8906\n",
      "Epoch 8/10\n",
      "\u001b[1m2188/2188\u001b[0m \u001b[32m━━━━━━━━━━━━━━━━━━━━\u001b[0m\u001b[37m\u001b[0m \u001b[1m68s\u001b[0m 31ms/step - loss: 0.8857 - mean_squared_error: 0.8857 - val_loss: 0.8672 - val_mean_squared_error: 0.8672\n",
      "Epoch 9/10\n",
      "\u001b[1m2188/2188\u001b[0m \u001b[32m━━━━━━━━━━━━━━━━━━━━\u001b[0m\u001b[37m\u001b[0m \u001b[1m63s\u001b[0m 29ms/step - loss: 0.8782 - mean_squared_error: 0.8782 - val_loss: 0.8781 - val_mean_squared_error: 0.8781\n",
      "Epoch 10/10\n",
      "\u001b[1m2188/2188\u001b[0m \u001b[32m━━━━━━━━━━━━━━━━━━━━\u001b[0m\u001b[37m\u001b[0m \u001b[1m63s\u001b[0m 29ms/step - loss: 0.8806 - mean_squared_error: 0.8806 - val_loss: 0.8768 - val_mean_squared_error: 0.8768\n"
     ]
    }
   ],
   "source": [
    "history = model.fit(X_train, y_train, validation_data=(X_valid, y_valid), epochs=10)\n"
   ]
  },
  {
   "cell_type": "code",
   "execution_count": null,
   "id": "2938e2ee-4012-4aee-bec9-a4a7483486ae",
   "metadata": {},
   "outputs": [],
   "source": []
  }
 ],
 "metadata": {
  "kernelspec": {
   "display_name": "Python 3 (ipykernel)",
   "language": "python",
   "name": "python3"
  },
  "language_info": {
   "codemirror_mode": {
    "name": "ipython",
    "version": 3
   },
   "file_extension": ".py",
   "mimetype": "text/x-python",
   "name": "python",
   "nbconvert_exporter": "python",
   "pygments_lexer": "ipython3",
   "version": "3.11.7"
  }
 },
 "nbformat": 4,
 "nbformat_minor": 5
}
